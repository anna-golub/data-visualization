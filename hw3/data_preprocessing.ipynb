{
  "nbformat": 4,
  "nbformat_minor": 0,
  "metadata": {
    "colab": {
      "name": "data_preprocessing.ipynb",
      "provenance": [],
      "collapsed_sections": []
    },
    "kernelspec": {
      "name": "python3",
      "display_name": "Python 3"
    },
    "language_info": {
      "name": "python"
    }
  },
  "cells": [
    {
      "cell_type": "markdown",
      "metadata": {
        "id": "aADUa_DNgwwV"
      },
      "source": [
        "# **Предобработка датасета**"
      ]
    },
    {
      "cell_type": "markdown",
      "metadata": {
        "id": "ARBiHPJRozuJ"
      },
      "source": [
        "# Считывание данных и простейшая предобработка"
      ]
    },
    {
      "cell_type": "markdown",
      "metadata": {
        "id": "-i1ajRNDg4sx"
      },
      "source": [
        "Загрузим необходимые библиотеки."
      ]
    },
    {
      "cell_type": "code",
      "metadata": {
        "id": "NaoeQOFbtxlV"
      },
      "source": [
        "import pandas as pd\n",
        "import numpy as np\n",
        "import matplotlib.pyplot as plt"
      ],
      "execution_count": 200,
      "outputs": []
    },
    {
      "cell_type": "markdown",
      "metadata": {
        "id": "bj80VVhbhH9n"
      },
      "source": [
        "Считаем данные из файла и **исправим некорректные строчки**, где разделителей - запятых - больше, чем столбцов предполагаемого датафрейма. Запишем результат в датафрейм."
      ]
    },
    {
      "cell_type": "code",
      "metadata": {
        "colab": {
          "base_uri": "https://localhost:8080/"
        },
        "id": "Ec6HPANFuB3e",
        "outputId": "c5923fc3-0d7f-4bbe-ff2f-47b80860e6b3"
      },
      "source": [
        "with open('/content/drive/MyDrive/Colab Notebooks/визуализация/goodreads-books-dataset.csv', 'r') as data_file:\n",
        "  lines = data_file.readlines()\n",
        "\n",
        "ind = 0\n",
        "while ind < len(lines):\n",
        "  s = lines[ind].strip()\n",
        "  s_split = s.split(',')\n",
        "  if len(s_split) != 12:\n",
        "    print(ind, s)\n",
        "  ind += 1"
      ],
      "execution_count": 154,
      "outputs": [
        {
          "output_type": "stream",
          "text": [
            "3349 12224,Streetcar Suburbs: The Process of Growth in Boston  1870-1900,Sam Bass Warner, Jr./Sam B. Warner,3.58,0674842111,9780674842113,en-US,236,61,6,4/20/2004,Harvard University Press\n",
            "4703 16914,The Tolkien Fan's Medieval Reader,David E. Smith (Turgon of TheOneRing.net, one of the founding members of this Tolkien website)/Verlyn Flieger/Turgon (=David E. Smith),3.58,1593600119,9781593600112,eng,400,26,4,4/6/2004,Cold Spring Press\n",
            "5878 22128,Patriots (The Coming Collapse),James Wesley, Rawles,3.63,156384155X,9781563841552,eng,342,38,4,1/15/1999,Huntington House Publishers\n",
            "8980 34889,Brown's Star Atlas: Showing All The Bright Stars With Full Instructions How To Find And Use Them For Navigational Purposes And Department Of Trade Examinations.,Brown, Son & Ferguson,0.00,0851742718,9780851742717,eng,49,0,0,5/1/1977,Brown Son & Ferguson Ltd.\n"
          ],
          "name": "stdout"
        }
      ]
    },
    {
      "cell_type": "code",
      "metadata": {
        "id": "y_n8hRQAvHu8"
      },
      "source": [
        "lines[3349] = '12224,Streetcar Suburbs: The Process of Growth in Boston  1870-1900,Sam Bass Warner Jr./Sam B. Warner,3.58,0674842111,9780674842113,en-US,236,61,6,4/20/2004,Harvard University Press\\n'\n",
        "lines[4703] = \"16914,The Tolkien Fan's Medieval Reader,David E. Smith/Verlyn Flieger,3.58,1593600119,9781593600112,eng,400,26,4,4/6/2004,Cold Spring Press\\n\"\n",
        "lines[5878] = \"22128,Patriots (The Coming Collapse),James Wesley Rawles,3.63,156384155X,9781563841552,eng,342,38,4,1/15/1999,Huntington House Publishers\\n\"\n",
        "lines[8980] = \"34889,Brown's Star Atlas: Showing All The Bright Stars With Full Instructions How To Find And Use Them For Navigational Purposes And Department Of Trade Examinations.,Brown Son & Ferguson,0.00,0851742718,9780851742717,eng,49,0,0,5/1/1977,Brown Son & Ferguson Ltd.\\n\""
      ],
      "execution_count": 155,
      "outputs": []
    },
    {
      "cell_type": "code",
      "metadata": {
        "colab": {
          "base_uri": "https://localhost:8080/",
          "height": 739
        },
        "id": "VexQdRJxwdoS",
        "outputId": "7879c525-0e5b-4567-e4b8-3f17ba3836b1"
      },
      "source": [
        "from io import StringIO\n",
        "df = pd.read_csv(StringIO(''.join(lines)), delim_whitespace=False)\n",
        "df.rename(columns={'  num_pages': 'num_pages'}, inplace=True)\n",
        "df.head()"
      ],
      "execution_count": 208,
      "outputs": [
        {
          "output_type": "execute_result",
          "data": {
            "text/html": [
              "<div>\n",
              "<style scoped>\n",
              "    .dataframe tbody tr th:only-of-type {\n",
              "        vertical-align: middle;\n",
              "    }\n",
              "\n",
              "    .dataframe tbody tr th {\n",
              "        vertical-align: top;\n",
              "    }\n",
              "\n",
              "    .dataframe thead th {\n",
              "        text-align: right;\n",
              "    }\n",
              "</style>\n",
              "<table border=\"1\" class=\"dataframe\">\n",
              "  <thead>\n",
              "    <tr style=\"text-align: right;\">\n",
              "      <th></th>\n",
              "      <th>bookID</th>\n",
              "      <th>title</th>\n",
              "      <th>authors</th>\n",
              "      <th>average_rating</th>\n",
              "      <th>isbn</th>\n",
              "      <th>isbn13</th>\n",
              "      <th>language_code</th>\n",
              "      <th>num_pages</th>\n",
              "      <th>ratings_count</th>\n",
              "      <th>text_reviews_count</th>\n",
              "      <th>publication_date</th>\n",
              "      <th>publisher</th>\n",
              "    </tr>\n",
              "  </thead>\n",
              "  <tbody>\n",
              "    <tr>\n",
              "      <th>0</th>\n",
              "      <td>1</td>\n",
              "      <td>Harry Potter and the Half-Blood Prince (Harry ...</td>\n",
              "      <td>J.K. Rowling/Mary GrandPré</td>\n",
              "      <td>4.57</td>\n",
              "      <td>0439785960</td>\n",
              "      <td>9780439785969</td>\n",
              "      <td>eng</td>\n",
              "      <td>652</td>\n",
              "      <td>2095690</td>\n",
              "      <td>27591</td>\n",
              "      <td>9/16/2006</td>\n",
              "      <td>Scholastic Inc.</td>\n",
              "    </tr>\n",
              "    <tr>\n",
              "      <th>1</th>\n",
              "      <td>2</td>\n",
              "      <td>Harry Potter and the Order of the Phoenix (Har...</td>\n",
              "      <td>J.K. Rowling/Mary GrandPré</td>\n",
              "      <td>4.49</td>\n",
              "      <td>0439358078</td>\n",
              "      <td>9780439358071</td>\n",
              "      <td>eng</td>\n",
              "      <td>870</td>\n",
              "      <td>2153167</td>\n",
              "      <td>29221</td>\n",
              "      <td>9/1/2004</td>\n",
              "      <td>Scholastic Inc.</td>\n",
              "    </tr>\n",
              "    <tr>\n",
              "      <th>2</th>\n",
              "      <td>4</td>\n",
              "      <td>Harry Potter and the Chamber of Secrets (Harry...</td>\n",
              "      <td>J.K. Rowling</td>\n",
              "      <td>4.42</td>\n",
              "      <td>0439554896</td>\n",
              "      <td>9780439554893</td>\n",
              "      <td>eng</td>\n",
              "      <td>352</td>\n",
              "      <td>6333</td>\n",
              "      <td>244</td>\n",
              "      <td>11/1/2003</td>\n",
              "      <td>Scholastic</td>\n",
              "    </tr>\n",
              "    <tr>\n",
              "      <th>3</th>\n",
              "      <td>5</td>\n",
              "      <td>Harry Potter and the Prisoner of Azkaban (Harr...</td>\n",
              "      <td>J.K. Rowling/Mary GrandPré</td>\n",
              "      <td>4.56</td>\n",
              "      <td>043965548X</td>\n",
              "      <td>9780439655484</td>\n",
              "      <td>eng</td>\n",
              "      <td>435</td>\n",
              "      <td>2339585</td>\n",
              "      <td>36325</td>\n",
              "      <td>5/1/2004</td>\n",
              "      <td>Scholastic Inc.</td>\n",
              "    </tr>\n",
              "    <tr>\n",
              "      <th>4</th>\n",
              "      <td>8</td>\n",
              "      <td>Harry Potter Boxed Set  Books 1-5 (Harry Potte...</td>\n",
              "      <td>J.K. Rowling/Mary GrandPré</td>\n",
              "      <td>4.78</td>\n",
              "      <td>0439682584</td>\n",
              "      <td>9780439682589</td>\n",
              "      <td>eng</td>\n",
              "      <td>2690</td>\n",
              "      <td>41428</td>\n",
              "      <td>164</td>\n",
              "      <td>9/13/2004</td>\n",
              "      <td>Scholastic</td>\n",
              "    </tr>\n",
              "  </tbody>\n",
              "</table>\n",
              "</div>"
            ],
            "text/plain": [
              "   bookID  ...        publisher\n",
              "0       1  ...  Scholastic Inc.\n",
              "1       2  ...  Scholastic Inc.\n",
              "2       4  ...       Scholastic\n",
              "3       5  ...  Scholastic Inc.\n",
              "4       8  ...       Scholastic\n",
              "\n",
              "[5 rows x 12 columns]"
            ]
          },
          "metadata": {
            "tags": []
          },
          "execution_count": 208
        }
      ]
    },
    {
      "cell_type": "markdown",
      "metadata": {
        "id": "wAU7zlUXhpXr"
      },
      "source": [
        "Проверим, что первоначально некорректные строки распознались верно."
      ]
    },
    {
      "cell_type": "code",
      "metadata": {
        "colab": {
          "base_uri": "https://localhost:8080/",
          "height": 203
        },
        "id": "ucuMalKawz71",
        "outputId": "5533e1c2-b110-4394-f1bd-c2e5c2783c77"
      },
      "source": [
        "df[df['bookID'] == 12224]"
      ],
      "execution_count": 157,
      "outputs": [
        {
          "output_type": "execute_result",
          "data": {
            "text/html": [
              "<div>\n",
              "<style scoped>\n",
              "    .dataframe tbody tr th:only-of-type {\n",
              "        vertical-align: middle;\n",
              "    }\n",
              "\n",
              "    .dataframe tbody tr th {\n",
              "        vertical-align: top;\n",
              "    }\n",
              "\n",
              "    .dataframe thead th {\n",
              "        text-align: right;\n",
              "    }\n",
              "</style>\n",
              "<table border=\"1\" class=\"dataframe\">\n",
              "  <thead>\n",
              "    <tr style=\"text-align: right;\">\n",
              "      <th></th>\n",
              "      <th>bookID</th>\n",
              "      <th>title</th>\n",
              "      <th>authors</th>\n",
              "      <th>average_rating</th>\n",
              "      <th>isbn</th>\n",
              "      <th>isbn13</th>\n",
              "      <th>language_code</th>\n",
              "      <th>num_pages</th>\n",
              "      <th>ratings_count</th>\n",
              "      <th>text_reviews_count</th>\n",
              "      <th>publication_date</th>\n",
              "      <th>publisher</th>\n",
              "    </tr>\n",
              "  </thead>\n",
              "  <tbody>\n",
              "    <tr>\n",
              "      <th>3348</th>\n",
              "      <td>12224</td>\n",
              "      <td>Streetcar Suburbs: The Process of Growth in Bo...</td>\n",
              "      <td>Sam Bass Warner Jr./Sam B. Warner</td>\n",
              "      <td>3.58</td>\n",
              "      <td>0674842111</td>\n",
              "      <td>9780674842113</td>\n",
              "      <td>en-US</td>\n",
              "      <td>236</td>\n",
              "      <td>61</td>\n",
              "      <td>6</td>\n",
              "      <td>4/20/2004</td>\n",
              "      <td>Harvard University Press</td>\n",
              "    </tr>\n",
              "  </tbody>\n",
              "</table>\n",
              "</div>"
            ],
            "text/plain": [
              "      bookID  ...                 publisher\n",
              "3348   12224  ...  Harvard University Press\n",
              "\n",
              "[1 rows x 12 columns]"
            ]
          },
          "metadata": {
            "tags": []
          },
          "execution_count": 157
        }
      ]
    },
    {
      "cell_type": "markdown",
      "metadata": {
        "id": "DPipss_mhyw0"
      },
      "source": [
        "Посмотрим, есть ли в датасете **пропущенные значения**, - их нет:"
      ]
    },
    {
      "cell_type": "code",
      "metadata": {
        "colab": {
          "base_uri": "https://localhost:8080/"
        },
        "id": "bLiq0go9d6hx",
        "outputId": "4516f4ca-1d96-43fc-f597-5292180de7b4"
      },
      "source": [
        "for col in df:\n",
        "  print(df[col].isna().sum())"
      ],
      "execution_count": 158,
      "outputs": [
        {
          "output_type": "stream",
          "text": [
            "0\n",
            "0\n",
            "0\n",
            "0\n",
            "0\n",
            "0\n",
            "0\n",
            "0\n",
            "0\n",
            "0\n",
            "0\n",
            "0\n"
          ],
          "name": "stdout"
        }
      ]
    },
    {
      "cell_type": "markdown",
      "metadata": {
        "id": "cobs4FK_iKkn"
      },
      "source": [
        "**Удалим столбцы с кодами ISBN**, поскольку они не несут информации, которую можно использовать для анализа данных."
      ]
    },
    {
      "cell_type": "code",
      "metadata": {
        "id": "7v08fe4piJjD"
      },
      "source": [
        "df = df.drop(columns=['isbn', 'isbn13'])"
      ],
      "execution_count": 209,
      "outputs": []
    },
    {
      "cell_type": "markdown",
      "metadata": {
        "id": "eI2gEwwrimIK"
      },
      "source": [
        "Распознаем ячейки столбца с **именами авторов** как массивы строк и добавим столбец с числом авторов."
      ]
    },
    {
      "cell_type": "code",
      "metadata": {
        "id": "chppgmwyeRA_"
      },
      "source": [
        "df['authors'] = df['authors'].str.split('/')\n",
        "df['authors_number'] = df['authors'].agg(len)"
      ],
      "execution_count": 210,
      "outputs": []
    },
    {
      "cell_type": "markdown",
      "metadata": {
        "id": "fRhO39HvjPEb"
      },
      "source": [
        "Посмотрим на результат:"
      ]
    },
    {
      "cell_type": "code",
      "metadata": {
        "colab": {
          "base_uri": "https://localhost:8080/",
          "height": 739
        },
        "id": "OS0lBHbvjQ_f",
        "outputId": "2c19c42a-44b3-4e81-f1b2-52e4d0322488"
      },
      "source": [
        "df.head()"
      ],
      "execution_count": 239,
      "outputs": [
        {
          "output_type": "execute_result",
          "data": {
            "text/html": [
              "<div>\n",
              "<style scoped>\n",
              "    .dataframe tbody tr th:only-of-type {\n",
              "        vertical-align: middle;\n",
              "    }\n",
              "\n",
              "    .dataframe tbody tr th {\n",
              "        vertical-align: top;\n",
              "    }\n",
              "\n",
              "    .dataframe thead th {\n",
              "        text-align: right;\n",
              "    }\n",
              "</style>\n",
              "<table border=\"1\" class=\"dataframe\">\n",
              "  <thead>\n",
              "    <tr style=\"text-align: right;\">\n",
              "      <th></th>\n",
              "      <th>bookID</th>\n",
              "      <th>title</th>\n",
              "      <th>authors</th>\n",
              "      <th>average_rating</th>\n",
              "      <th>language_code</th>\n",
              "      <th>num_pages</th>\n",
              "      <th>ratings_count</th>\n",
              "      <th>text_reviews_count</th>\n",
              "      <th>publication_date</th>\n",
              "      <th>publisher</th>\n",
              "      <th>authors_number</th>\n",
              "    </tr>\n",
              "  </thead>\n",
              "  <tbody>\n",
              "    <tr>\n",
              "      <th>0</th>\n",
              "      <td>1</td>\n",
              "      <td>Harry Potter and the Half-Blood Prince (Harry ...</td>\n",
              "      <td>[J.K. Rowling, Mary GrandPré]</td>\n",
              "      <td>4.57</td>\n",
              "      <td>eng</td>\n",
              "      <td>652</td>\n",
              "      <td>2095690</td>\n",
              "      <td>27591</td>\n",
              "      <td>2006-09-16</td>\n",
              "      <td>Scholastic Inc.</td>\n",
              "      <td>2</td>\n",
              "    </tr>\n",
              "    <tr>\n",
              "      <th>1</th>\n",
              "      <td>2</td>\n",
              "      <td>Harry Potter and the Order of the Phoenix (Har...</td>\n",
              "      <td>[J.K. Rowling, Mary GrandPré]</td>\n",
              "      <td>4.49</td>\n",
              "      <td>eng</td>\n",
              "      <td>870</td>\n",
              "      <td>2153167</td>\n",
              "      <td>29221</td>\n",
              "      <td>2004-09-01</td>\n",
              "      <td>Scholastic Inc.</td>\n",
              "      <td>2</td>\n",
              "    </tr>\n",
              "    <tr>\n",
              "      <th>2</th>\n",
              "      <td>4</td>\n",
              "      <td>Harry Potter and the Chamber of Secrets (Harry...</td>\n",
              "      <td>[J.K. Rowling]</td>\n",
              "      <td>4.42</td>\n",
              "      <td>eng</td>\n",
              "      <td>352</td>\n",
              "      <td>6333</td>\n",
              "      <td>244</td>\n",
              "      <td>2003-11-01</td>\n",
              "      <td>Scholastic</td>\n",
              "      <td>1</td>\n",
              "    </tr>\n",
              "    <tr>\n",
              "      <th>3</th>\n",
              "      <td>5</td>\n",
              "      <td>Harry Potter and the Prisoner of Azkaban (Harr...</td>\n",
              "      <td>[J.K. Rowling, Mary GrandPré]</td>\n",
              "      <td>4.56</td>\n",
              "      <td>eng</td>\n",
              "      <td>435</td>\n",
              "      <td>2339585</td>\n",
              "      <td>36325</td>\n",
              "      <td>2004-05-01</td>\n",
              "      <td>Scholastic Inc.</td>\n",
              "      <td>2</td>\n",
              "    </tr>\n",
              "    <tr>\n",
              "      <th>4</th>\n",
              "      <td>8</td>\n",
              "      <td>Harry Potter Boxed Set  Books 1-5 (Harry Potte...</td>\n",
              "      <td>[J.K. Rowling, Mary GrandPré]</td>\n",
              "      <td>4.78</td>\n",
              "      <td>eng</td>\n",
              "      <td>2690</td>\n",
              "      <td>41428</td>\n",
              "      <td>164</td>\n",
              "      <td>2004-09-13</td>\n",
              "      <td>Scholastic</td>\n",
              "      <td>2</td>\n",
              "    </tr>\n",
              "  </tbody>\n",
              "</table>\n",
              "</div>"
            ],
            "text/plain": [
              "   bookID  ... authors_number\n",
              "0       1  ...              2\n",
              "1       2  ...              2\n",
              "2       4  ...              1\n",
              "3       5  ...              2\n",
              "4       8  ...              2\n",
              "\n",
              "[5 rows x 11 columns]"
            ]
          },
          "metadata": {
            "tags": []
          },
          "execution_count": 239
        }
      ]
    },
    {
      "cell_type": "markdown",
      "metadata": {
        "id": "bhP1OtIIotnw"
      },
      "source": [
        "# Предобработка дат"
      ]
    },
    {
      "cell_type": "markdown",
      "metadata": {
        "id": "u4VKSmtzizwM"
      },
      "source": [
        "Приведем столбец с **датами публикации книг** к типу данных datetime, предварительно исправив некорректные \n",
        "значения."
      ]
    },
    {
      "cell_type": "code",
      "metadata": {
        "id": "B_Mknf8D2bIX"
      },
      "source": [
        "def incorrect_date(day, month, year):\n",
        "  if day <= 0 or month <= 0 or year < 0:\n",
        "    return True\n",
        "  \n",
        "  if month in (1, 3, 5, 7, 8, 10, 12) and day > 31:\n",
        "    return True\n",
        "\n",
        "  if month in (4, 6, 9, 11) and day > 30:\n",
        "    return True\n",
        "\n",
        "  if month == 2:\n",
        "    if year % 400 == 0 or (year % 100 != 0 and year % 4 == 0):\n",
        "      if day > 29:\n",
        "        return True\n",
        "    elif day > 28:\n",
        "      return True\n",
        "\n",
        "  return False"
      ],
      "execution_count": 162,
      "outputs": []
    },
    {
      "cell_type": "code",
      "metadata": {
        "colab": {
          "base_uri": "https://localhost:8080/"
        },
        "id": "rL9BTWhA1f-y",
        "outputId": "a299c20f-8041-4b92-ce92-0b417fe2adc4"
      },
      "source": [
        "for ind, row in df.iterrows():\n",
        "  month, day, year = map(int, row['publication_date'].split('/'))\n",
        "  if incorrect_date(day, month, year):\n",
        "    print(row['bookID'], row['publication_date'])"
      ],
      "execution_count": 180,
      "outputs": [
        {
          "output_type": "stream",
          "text": [
            "31373 11/31/2000\n",
            "45531 6/31/1982\n"
          ],
          "name": "stdout"
        }
      ]
    },
    {
      "cell_type": "code",
      "metadata": {
        "id": "3NVMsGVN-XCK"
      },
      "source": [
        "df.loc[df['bookID'] == 31373, 'publication_date'] = '11/30/2000'\n",
        "df.loc[df['bookID'] == 45531, 'publication_date'] = '6/30/1982'"
      ],
      "execution_count": 211,
      "outputs": []
    },
    {
      "cell_type": "code",
      "metadata": {
        "colab": {
          "base_uri": "https://localhost:8080/"
        },
        "id": "Ly5VD9BZxgMM",
        "outputId": "db79fc8f-7675-4543-ea8a-65df468919b1"
      },
      "source": [
        "df['publication_date'] = pd.to_datetime(df['publication_date'], format='%m/%d/%Y')\n",
        "df.dtypes"
      ],
      "execution_count": 212,
      "outputs": [
        {
          "output_type": "execute_result",
          "data": {
            "text/plain": [
              "bookID                         int64\n",
              "title                         object\n",
              "authors                       object\n",
              "average_rating               float64\n",
              "language_code                 object\n",
              "num_pages                      int64\n",
              "ratings_count                  int64\n",
              "text_reviews_count             int64\n",
              "publication_date      datetime64[ns]\n",
              "publisher                     object\n",
              "dtype: object"
            ]
          },
          "metadata": {
            "tags": []
          },
          "execution_count": 212
        }
      ]
    },
    {
      "cell_type": "markdown",
      "metadata": {
        "id": "nhypY0JdpGWU"
      },
      "source": [
        "# Предобработка столбца с языковыми кодами"
      ]
    },
    {
      "cell_type": "markdown",
      "metadata": {
        "id": "fb3PK3l8jY8-"
      },
      "source": [
        "В датафрейме используются несколько различных кодов для английского языка:"
      ]
    },
    {
      "cell_type": "code",
      "metadata": {
        "colab": {
          "base_uri": "https://localhost:8080/"
        },
        "id": "TfoT2jYZDAoL",
        "outputId": "c7e640bf-81b8-4d95-9b0f-8c8fe3a23913"
      },
      "source": [
        "df['language_code'].unique()"
      ],
      "execution_count": 167,
      "outputs": [
        {
          "output_type": "execute_result",
          "data": {
            "text/plain": [
              "array(['eng', 'en-US', 'fre', 'spa', 'en-GB', 'mul', 'grc', 'enm',\n",
              "       'en-CA', 'ger', 'jpn', 'ara', 'nl', 'zho', 'lat', 'por', 'srp',\n",
              "       'ita', 'rus', 'msa', 'glg', 'wel', 'swe', 'nor', 'tur', 'gla',\n",
              "       'ale'], dtype=object)"
            ]
          },
          "metadata": {
            "tags": []
          },
          "execution_count": 167
        }
      ]
    },
    {
      "cell_type": "code",
      "metadata": {
        "colab": {
          "base_uri": "https://localhost:8080/"
        },
        "id": "UpoetrPfD2AW",
        "outputId": "28584e1c-f229-4713-ccb7-89cc1157da31"
      },
      "source": [
        "df[df['language_code'].str.contains('en')].groupby('language_code')['bookID'].count()"
      ],
      "execution_count": 213,
      "outputs": [
        {
          "output_type": "execute_result",
          "data": {
            "text/plain": [
              "language_code\n",
              "en-CA       7\n",
              "en-GB     214\n",
              "en-US    1409\n",
              "eng      8911\n",
              "enm         3\n",
              "Name: bookID, dtype: int64"
            ]
          },
          "metadata": {
            "tags": []
          },
          "execution_count": 213
        }
      ]
    },
    {
      "cell_type": "markdown",
      "metadata": {
        "id": "LZEoVubzkJYE"
      },
      "source": [
        "Приведем их все к одному виду - просто 'eng':"
      ]
    },
    {
      "cell_type": "code",
      "metadata": {
        "colab": {
          "base_uri": "https://localhost:8080/"
        },
        "id": "w5dD-cvbE9-n",
        "outputId": "14d4cf9e-f30d-417b-df79-a0909f4b375f"
      },
      "source": [
        "df.loc[df['language_code'].str.contains('en'), 'language_code'] = 'eng'\n",
        "df['language_code'].unique()"
      ],
      "execution_count": 214,
      "outputs": [
        {
          "output_type": "execute_result",
          "data": {
            "text/plain": [
              "array(['eng', 'fre', 'spa', 'mul', 'grc', 'ger', 'jpn', 'ara', 'nl',\n",
              "       'zho', 'lat', 'por', 'srp', 'ita', 'rus', 'msa', 'glg', 'wel',\n",
              "       'swe', 'nor', 'tur', 'gla', 'ale'], dtype=object)"
            ]
          },
          "metadata": {
            "tags": []
          },
          "execution_count": 214
        }
      ]
    },
    {
      "cell_type": "markdown",
      "metadata": {
        "id": "nugpnCnipX-h"
      },
      "source": [
        "# Замена некорректных нулевых значений"
      ]
    },
    {
      "cell_type": "markdown",
      "metadata": {
        "id": "Q8AscOv_kRFf"
      },
      "source": [
        "В датафрейме есть книги, у которых **число поставленных рейтингов равно нулю**, в то время как **средний рейтинг нулю не равен**. "
      ]
    },
    {
      "cell_type": "code",
      "metadata": {
        "colab": {
          "base_uri": "https://localhost:8080/",
          "height": 265
        },
        "id": "4fMU4rFsnXwi",
        "outputId": "f2b251c4-955f-4b93-ef12-50683c2cd298"
      },
      "source": [
        "df['average_rating'].hist();"
      ],
      "execution_count": 203,
      "outputs": [
        {
          "output_type": "display_data",
          "data": {
            "image/png": "[encoded data removed]",
            "text/plain": [
              "<Figure size 432x288 with 1 Axes>"
            ]
          },
          "metadata": {
            "tags": [],
            "needs_background": "light"
          }
        }
      ]
    },
    {
      "cell_type": "markdown",
      "metadata": {
        "id": "dFNXu52Fp5Y4"
      },
      "source": [
        "Таких книг 55:"
      ]
    },
    {
      "cell_type": "code",
      "metadata": {
        "colab": {
          "base_uri": "https://localhost:8080/"
        },
        "id": "5g81cP7RG480",
        "outputId": "3cecc744-5625-4553-ddcc-b2ef4c900a23"
      },
      "source": [
        "df[(df['ratings_count'] == 0) & (df['average_rating'] != 0)]['bookID'].size"
      ],
      "execution_count": 215,
      "outputs": [
        {
          "output_type": "execute_result",
          "data": {
            "text/plain": [
              "55"
            ]
          },
          "metadata": {
            "tags": []
          },
          "execution_count": 215
        }
      ]
    },
    {
      "cell_type": "markdown",
      "metadata": {
        "id": "t73TlSrRkvZX"
      },
      "source": [
        "Для таких книг в столбец с числом проставленных рейтингов запишем медианное значение по числу проставленных рейтингов среди книг со средним рейтингом в том же диапазоне."
      ]
    },
    {
      "cell_type": "code",
      "metadata": {
        "colab": {
          "base_uri": "https://localhost:8080/"
        },
        "id": "SSUs0adZU43k",
        "outputId": "4c3f6da3-2234-458a-e752-27d34964e5cb"
      },
      "source": [
        "precision = 0.1\n",
        "iter_range = np.arange(0.1, 5.1, precision)\n",
        "\n",
        "median_ratings_count = dict()\n",
        "for i in iter_range:\n",
        "  i = round(i,1)\n",
        "  value = df[(i - precision <= df['average_rating']) \n",
        "    & (df['average_rating'] <= i)]['ratings_count'].median()\n",
        "  if np.isnan(value):\n",
        "    value = 0\n",
        "  median_ratings_count[i] = round(value)\n",
        "\n",
        "median_ratings_count = pd.Series(median_ratings_count)\n",
        "median_ratings_count = median_ratings_count.replace(0, round(median_ratings_count.mean()))\n",
        "median_ratings_count"
      ],
      "execution_count": 216,
      "outputs": [
        {
          "output_type": "execute_result",
          "data": {
            "text/plain": [
              "0.1     285\n",
              "0.2     285\n",
              "0.3     285\n",
              "0.4     285\n",
              "0.5     285\n",
              "0.6     285\n",
              "0.7     285\n",
              "0.8     285\n",
              "0.9     285\n",
              "1.0       2\n",
              "1.1       2\n",
              "1.2     285\n",
              "1.3     285\n",
              "1.4     285\n",
              "1.5     285\n",
              "1.6     285\n",
              "1.7       3\n",
              "1.8     285\n",
              "1.9     285\n",
              "2.0       1\n",
              "2.1       1\n",
              "2.2     285\n",
              "2.3     285\n",
              "2.4    2709\n",
              "2.5    2710\n",
              "2.6      18\n",
              "2.7       8\n",
              "2.8       8\n",
              "2.9      79\n",
              "3.0       6\n",
              "3.1      12\n",
              "3.2     124\n",
              "3.3     140\n",
              "3.4     218\n",
              "3.5     332\n",
              "3.6     329\n",
              "3.7     546\n",
              "3.8     657\n",
              "3.9     912\n",
              "4.0     832\n",
              "4.1    1005\n",
              "4.2    1148\n",
              "4.3     817\n",
              "4.4     675\n",
              "4.5     505\n",
              "4.6     135\n",
              "4.7     178\n",
              "4.8     144\n",
              "4.9       7\n",
              "5.0       2\n",
              "dtype: int64"
            ]
          },
          "metadata": {
            "tags": []
          },
          "execution_count": 216
        }
      ]
    },
    {
      "cell_type": "code",
      "metadata": {
        "id": "IZq9gZO8NvrP"
      },
      "source": [
        "for _, row in df.iterrows():\n",
        "  if row['ratings_count'] == 0 and row['average_rating'] != 0:\n",
        "    rating = round(row['average_rating'] + 0.05, 1)\n",
        "    df.loc[_, 'ratings_count'] = median_ratings_count[rating]"
      ],
      "execution_count": null,
      "outputs": []
    },
    {
      "cell_type": "markdown",
      "metadata": {
        "id": "BJ2vD5DsoET6"
      },
      "source": [
        "Проверим, что в датафрейме не осталось строк, где число проставленных рейтингов равно нулю, а сам средний рейтинг - нет:"
      ]
    },
    {
      "cell_type": "code",
      "metadata": {
        "colab": {
          "base_uri": "https://localhost:8080/"
        },
        "id": "aT0ouGFGTL6E",
        "outputId": "a9349270-6106-43f5-dca9-cdd9038bfd11"
      },
      "source": [
        "df[(df['ratings_count'] == 0) & (df['average_rating'] != 0)]['bookID'].size"
      ],
      "execution_count": 220,
      "outputs": [
        {
          "output_type": "execute_result",
          "data": {
            "text/plain": [
              "0"
            ]
          },
          "metadata": {
            "tags": []
          },
          "execution_count": 220
        }
      ]
    },
    {
      "cell_type": "markdown",
      "metadata": {
        "id": "iUojKX1EUs5A"
      },
      "source": [
        "# Гипотезы о данных"
      ]
    },
    {
      "cell_type": "markdown",
      "metadata": {
        "id": "hNeVgPIeU1Fk"
      },
      "source": [
        "Столбцы ratings_count и text_reviews_count достаточно сильно коррелируют."
      ]
    },
    {
      "cell_type": "code",
      "metadata": {
        "colab": {
          "base_uri": "https://localhost:8080/",
          "height": 280
        },
        "id": "il4-ZuNlI3rE",
        "outputId": "a4f3f975-712b-4446-836e-492704d5f9a2"
      },
      "source": [
        "df[['ratings_count', 'text_reviews_count']].sort_values(by='ratings_count') \\\n",
        "  .plot(x='ratings_count', y='text_reviews_count');\n",
        "plt.savefig('texts_rates.jpg')"
      ],
      "execution_count": 225,
      "outputs": [
        {
          "output_type": "display_data",
          "data": {
            "image/png": "[encoded data removed]",
            "text/plain": [
              "<Figure size 432x288 with 1 Axes>"
            ]
          },
          "metadata": {
            "tags": [],
            "needs_background": "light"
          }
        }
      ]
    },
    {
      "cell_type": "markdown",
      "metadata": {
        "id": "VrTSkzcDU9GW"
      },
      "source": [
        "Пользователи Goodreads практически не читают книги длиной более 1500 страниц."
      ]
    },
    {
      "cell_type": "code",
      "metadata": {
        "colab": {
          "base_uri": "https://localhost:8080/",
          "height": 290
        },
        "id": "p1rbo1uPOosU",
        "outputId": "cffd1665-522f-4f4c-d38d-94f67c12834c"
      },
      "source": [
        "df[['ratings_count', 'num_pages']].sort_values(by='num_pages') \\\n",
        "  .plot(x='num_pages', y='ratings_count');\n",
        "plt.savefig('num_pages_rates.jpg')"
      ],
      "execution_count": 231,
      "outputs": [
        {
          "output_type": "display_data",
          "data": {
            "image/png": "[encoded data removed]",
            "text/plain": [
              "<Figure size 432x288 with 1 Axes>"
            ]
          },
          "metadata": {
            "tags": [],
            "needs_background": "light"
          }
        }
      ]
    }
  ]
}